{
 "cells": [
  {
   "cell_type": "markdown",
   "metadata": {},
   "source": [
    "To configure the notebook use a .env file or set the environmental variables 'HTE_POSTGRES_DSN' and 'HTE_POSTGRES_PASSWORD'"
   ]
  },
  {
   "cell_type": "code",
   "execution_count": 6,
   "metadata": {},
   "outputs": [
    {
     "name": "stdout",
     "output_type": "stream",
     "text": [
      "Collecting git+https://github.com/modelyst/hte-client.git\n",
      "  Cloning https://github.com/modelyst/hte-client.git to /tmp/pip-req-build-qb4knpal\n",
      "  Running command git clone -q https://github.com/modelyst/hte-client.git /tmp/pip-req-build-qb4knpal\n",
      "  Resolved https://github.com/modelyst/hte-client.git to commit fc314ac8e078608922052a233955f2ba66f1189c\n",
      "  Installing build dependencies ... \u001b[?25ldone\n",
      "\u001b[?25h  Getting requirements to build wheel ... \u001b[?25ldone\n",
      "\u001b[?25h    Preparing wheel metadata ... \u001b[?25ldone\n",
      "\u001b[?25hRequirement already satisfied: aiofiles<23.0.0,>=22.1.0 in /home/mstatt/projects/caltech/hte-client/.venv/lib/python3.10/site-packages (from hte-client==0.1.0) (22.1.0)\n",
      "Requirement already satisfied: matplotlib<4.0.0,>=3.6.1 in /home/mstatt/projects/caltech/hte-client/.venv/lib/python3.10/site-packages (from hte-client==0.1.0) (3.6.1)\n",
      "Requirement already satisfied: pandas<2.0.0,>=1.5.1 in /home/mstatt/projects/caltech/hte-client/.venv/lib/python3.10/site-packages (from hte-client==0.1.0) (1.5.1)\n",
      "Requirement already satisfied: typer<0.7.0,>=0.6.1 in /home/mstatt/projects/caltech/hte-client/.venv/lib/python3.10/site-packages (from hte-client==0.1.0) (0.6.1)\n",
      "Requirement already satisfied: httpx<0.24.0,>=0.23.0 in /home/mstatt/projects/caltech/hte-client/.venv/lib/python3.10/site-packages (from hte-client==0.1.0) (0.23.0)\n",
      "Requirement already satisfied: modelyst-dbgen<2.0.0,>=1.0.0a7 in /home/mstatt/projects/caltech/hte-client/.venv/lib/python3.10/site-packages (from hte-client==0.1.0) (1.0.0a7)\n",
      "Requirement already satisfied: requests<3.0.0,>=2.28.1 in /home/mstatt/projects/caltech/hte-client/.venv/lib/python3.10/site-packages (from hte-client==0.1.0) (2.28.1)\n",
      "Requirement already satisfied: beautifulsoup4<5.0.0,>=4.11.1 in /home/mstatt/projects/caltech/hte-client/.venv/lib/python3.10/site-packages (from hte-client==0.1.0) (4.11.1)\n",
      "Requirement already satisfied: soupsieve>1.2 in /home/mstatt/projects/caltech/hte-client/.venv/lib/python3.10/site-packages (from beautifulsoup4<5.0.0,>=4.11.1->hte-client==0.1.0) (2.3.2.post1)\n",
      "Requirement already satisfied: sniffio in /home/mstatt/projects/caltech/hte-client/.venv/lib/python3.10/site-packages (from httpx<0.24.0,>=0.23.0->hte-client==0.1.0) (1.3.0)\n",
      "Requirement already satisfied: httpcore<0.16.0,>=0.15.0 in /home/mstatt/projects/caltech/hte-client/.venv/lib/python3.10/site-packages (from httpx<0.24.0,>=0.23.0->hte-client==0.1.0) (0.15.0)\n",
      "Requirement already satisfied: rfc3986[idna2008]<2,>=1.3 in /home/mstatt/projects/caltech/hte-client/.venv/lib/python3.10/site-packages (from httpx<0.24.0,>=0.23.0->hte-client==0.1.0) (1.5.0)\n",
      "Requirement already satisfied: certifi in /home/mstatt/projects/caltech/hte-client/.venv/lib/python3.10/site-packages (from httpx<0.24.0,>=0.23.0->hte-client==0.1.0) (2022.9.24)\n",
      "Requirement already satisfied: anyio==3.* in /home/mstatt/projects/caltech/hte-client/.venv/lib/python3.10/site-packages (from httpcore<0.16.0,>=0.15.0->httpx<0.24.0,>=0.23.0->hte-client==0.1.0) (3.6.2)\n",
      "Requirement already satisfied: h11<0.13,>=0.11 in /home/mstatt/projects/caltech/hte-client/.venv/lib/python3.10/site-packages (from httpcore<0.16.0,>=0.15.0->httpx<0.24.0,>=0.23.0->hte-client==0.1.0) (0.12.0)\n",
      "Requirement already satisfied: idna>=2.8 in /home/mstatt/projects/caltech/hte-client/.venv/lib/python3.10/site-packages (from anyio==3.*->httpcore<0.16.0,>=0.15.0->httpx<0.24.0,>=0.23.0->hte-client==0.1.0) (3.4)\n",
      "Requirement already satisfied: pillow>=6.2.0 in /home/mstatt/projects/caltech/hte-client/.venv/lib/python3.10/site-packages (from matplotlib<4.0.0,>=3.6.1->hte-client==0.1.0) (9.2.0)\n",
      "Requirement already satisfied: numpy>=1.19 in /home/mstatt/projects/caltech/hte-client/.venv/lib/python3.10/site-packages (from matplotlib<4.0.0,>=3.6.1->hte-client==0.1.0) (1.23.4)\n",
      "Requirement already satisfied: kiwisolver>=1.0.1 in /home/mstatt/projects/caltech/hte-client/.venv/lib/python3.10/site-packages (from matplotlib<4.0.0,>=3.6.1->hte-client==0.1.0) (1.4.4)\n",
      "Requirement already satisfied: packaging>=20.0 in /home/mstatt/projects/caltech/hte-client/.venv/lib/python3.10/site-packages (from matplotlib<4.0.0,>=3.6.1->hte-client==0.1.0) (21.3)\n",
      "Requirement already satisfied: cycler>=0.10 in /home/mstatt/projects/caltech/hte-client/.venv/lib/python3.10/site-packages (from matplotlib<4.0.0,>=3.6.1->hte-client==0.1.0) (0.11.0)\n",
      "Requirement already satisfied: fonttools>=4.22.0 in /home/mstatt/projects/caltech/hte-client/.venv/lib/python3.10/site-packages (from matplotlib<4.0.0,>=3.6.1->hte-client==0.1.0) (4.37.4)\n",
      "Requirement already satisfied: contourpy>=1.0.1 in /home/mstatt/projects/caltech/hte-client/.venv/lib/python3.10/site-packages (from matplotlib<4.0.0,>=3.6.1->hte-client==0.1.0) (1.0.5)\n",
      "Requirement already satisfied: python-dateutil>=2.7 in /home/mstatt/projects/caltech/hte-client/.venv/lib/python3.10/site-packages (from matplotlib<4.0.0,>=3.6.1->hte-client==0.1.0) (2.8.2)\n",
      "Requirement already satisfied: pyparsing>=2.2.1 in /home/mstatt/projects/caltech/hte-client/.venv/lib/python3.10/site-packages (from matplotlib<4.0.0,>=3.6.1->hte-client==0.1.0) (3.0.9)\n",
      "Requirement already satisfied: PyYAML<7.0,>=6.0 in /home/mstatt/projects/caltech/hte-client/.venv/lib/python3.10/site-packages (from modelyst-dbgen<2.0.0,>=1.0.0a7->hte-client==0.1.0) (6.0)\n",
      "Requirement already satisfied: psycopg[pool]<4.0.0,>=3.0.15 in /home/mstatt/projects/caltech/hte-client/.venv/lib/python3.10/site-packages (from modelyst-dbgen<2.0.0,>=1.0.0a7->hte-client==0.1.0) (3.1.3)\n",
      "Requirement already satisfied: rich<12.0.0,>=11.1.0 in /home/mstatt/projects/caltech/hte-client/.venv/lib/python3.10/site-packages (from modelyst-dbgen<2.0.0,>=1.0.0a7->hte-client==0.1.0) (11.2.0)\n",
      "Requirement already satisfied: pydantic==1.9.1 in /home/mstatt/projects/caltech/hte-client/.venv/lib/python3.10/site-packages (from modelyst-dbgen<2.0.0,>=1.0.0a7->hte-client==0.1.0) (1.9.1)\n",
      "Requirement already satisfied: pydasher<0.0.14,>=0.0.13 in /home/mstatt/projects/caltech/hte-client/.venv/lib/python3.10/site-packages (from modelyst-dbgen<2.0.0,>=1.0.0a7->hte-client==0.1.0) (0.0.13)\n",
      "Requirement already satisfied: modelyst-sqlmodel<0.0.10,>=0.0.9 in /home/mstatt/projects/caltech/hte-client/.venv/lib/python3.10/site-packages (from modelyst-dbgen<2.0.0,>=1.0.0a7->hte-client==0.1.0) (0.0.9)\n",
      "Requirement already satisfied: psycopg2-binary<3.0.0,>=2.9.1 in /home/mstatt/projects/caltech/hte-client/.venv/lib/python3.10/site-packages (from modelyst-dbgen<2.0.0,>=1.0.0a7->hte-client==0.1.0) (2.9.4)\n",
      "Requirement already satisfied: psutil<6.0.0,>=5.9.0 in /home/mstatt/projects/caltech/hte-client/.venv/lib/python3.10/site-packages (from modelyst-dbgen<2.0.0,>=1.0.0a7->hte-client==0.1.0) (5.9.3)\n",
      "Requirement already satisfied: typing-extensions>=3.10.0.1 in /home/mstatt/projects/caltech/hte-client/.venv/lib/python3.10/site-packages (from modelyst-dbgen<2.0.0,>=1.0.0a7->hte-client==0.1.0) (4.4.0)\n",
      "Requirement already satisfied: chardet<5.0.0,>=4.0.0 in /home/mstatt/projects/caltech/hte-client/.venv/lib/python3.10/site-packages (from modelyst-dbgen<2.0.0,>=1.0.0a7->hte-client==0.1.0) (4.0.0)\n",
      "Requirement already satisfied: networkx<3.0.0,>=2.6.3 in /home/mstatt/projects/caltech/hte-client/.venv/lib/python3.10/site-packages (from modelyst-dbgen<2.0.0,>=1.0.0a7->hte-client==0.1.0) (2.8.7)\n",
      "Requirement already satisfied: cookiecutter==2.1.1 in /home/mstatt/projects/caltech/hte-client/.venv/lib/python3.10/site-packages (from modelyst-dbgen<2.0.0,>=1.0.0a7->hte-client==0.1.0) (2.1.1)\n",
      "Requirement already satisfied: psycopg-binary[pool]<4.0.0,>=3.0.15 in /home/mstatt/projects/caltech/hte-client/.venv/lib/python3.10/site-packages (from modelyst-dbgen<2.0.0,>=1.0.0a7->hte-client==0.1.0) (3.1.3)\n",
      "Requirement already satisfied: types-PyYAML<7.0.0,>=6.0.5 in /home/mstatt/projects/caltech/hte-client/.venv/lib/python3.10/site-packages (from modelyst-dbgen<2.0.0,>=1.0.0a7->hte-client==0.1.0) (6.0.12)\n",
      "Requirement already satisfied: jinja2-time>=0.2.0 in /home/mstatt/projects/caltech/hte-client/.venv/lib/python3.10/site-packages (from cookiecutter==2.1.1->modelyst-dbgen<2.0.0,>=1.0.0a7->hte-client==0.1.0) (0.2.0)\n",
      "Requirement already satisfied: python-slugify>=4.0.0 in /home/mstatt/projects/caltech/hte-client/.venv/lib/python3.10/site-packages (from cookiecutter==2.1.1->modelyst-dbgen<2.0.0,>=1.0.0a7->hte-client==0.1.0) (6.1.2)\n",
      "Requirement already satisfied: binaryornot>=0.4.4 in /home/mstatt/projects/caltech/hte-client/.venv/lib/python3.10/site-packages (from cookiecutter==2.1.1->modelyst-dbgen<2.0.0,>=1.0.0a7->hte-client==0.1.0) (0.4.4)\n",
      "Requirement already satisfied: click<9.0.0,>=7.0 in /home/mstatt/projects/caltech/hte-client/.venv/lib/python3.10/site-packages (from cookiecutter==2.1.1->modelyst-dbgen<2.0.0,>=1.0.0a7->hte-client==0.1.0) (8.1.3)\n",
      "Requirement already satisfied: Jinja2<4.0.0,>=2.7 in /home/mstatt/projects/caltech/hte-client/.venv/lib/python3.10/site-packages (from cookiecutter==2.1.1->modelyst-dbgen<2.0.0,>=1.0.0a7->hte-client==0.1.0) (3.1.2)\n",
      "Requirement already satisfied: MarkupSafe>=2.0 in /home/mstatt/projects/caltech/hte-client/.venv/lib/python3.10/site-packages (from Jinja2<4.0.0,>=2.7->cookiecutter==2.1.1->modelyst-dbgen<2.0.0,>=1.0.0a7->hte-client==0.1.0) (2.1.1)\n",
      "Requirement already satisfied: arrow in /home/mstatt/projects/caltech/hte-client/.venv/lib/python3.10/site-packages (from jinja2-time>=0.2.0->cookiecutter==2.1.1->modelyst-dbgen<2.0.0,>=1.0.0a7->hte-client==0.1.0) (1.2.3)\n",
      "Requirement already satisfied: SQLAlchemy<1.5.0,>=1.4.17 in /home/mstatt/projects/caltech/hte-client/.venv/lib/python3.10/site-packages (from modelyst-sqlmodel<0.0.10,>=0.0.9->modelyst-dbgen<2.0.0,>=1.0.0a7->hte-client==0.1.0) (1.4.42)\n",
      "Requirement already satisfied: sqlalchemy2-stubs in /home/mstatt/projects/caltech/hte-client/.venv/lib/python3.10/site-packages (from modelyst-sqlmodel<0.0.10,>=0.0.9->modelyst-dbgen<2.0.0,>=1.0.0a7->hte-client==0.1.0) (0.0.2a29)\n",
      "Requirement already satisfied: pytz>=2020.1 in /home/mstatt/projects/caltech/hte-client/.venv/lib/python3.10/site-packages (from pandas<2.0.0,>=1.5.1->hte-client==0.1.0) (2022.5)\n",
      "\u001b[33mWARNING: psycopg-binary 3.1.3 does not provide the extra 'pool'\u001b[0m\n",
      "Requirement already satisfied: psycopg-pool in /home/mstatt/projects/caltech/hte-client/.venv/lib/python3.10/site-packages (from psycopg[pool]<4.0.0,>=3.0.15->modelyst-dbgen<2.0.0,>=1.0.0a7->hte-client==0.1.0) (3.1.2)\n",
      "Requirement already satisfied: python-dotenv>=0.10.4 in /home/mstatt/projects/caltech/hte-client/.venv/lib/python3.10/site-packages (from pydantic==1.9.1->modelyst-dbgen<2.0.0,>=1.0.0a7->hte-client==0.1.0) (0.21.0)\n",
      "Requirement already satisfied: six>=1.5 in /home/mstatt/projects/caltech/hte-client/.venv/lib/python3.10/site-packages (from python-dateutil>=2.7->matplotlib<4.0.0,>=3.6.1->hte-client==0.1.0) (1.16.0)\n",
      "Requirement already satisfied: text-unidecode>=1.3 in /home/mstatt/projects/caltech/hte-client/.venv/lib/python3.10/site-packages (from python-slugify>=4.0.0->cookiecutter==2.1.1->modelyst-dbgen<2.0.0,>=1.0.0a7->hte-client==0.1.0) (1.3)\n",
      "Requirement already satisfied: urllib3<1.27,>=1.21.1 in /home/mstatt/projects/caltech/hte-client/.venv/lib/python3.10/site-packages (from requests<3.0.0,>=2.28.1->hte-client==0.1.0) (1.26.12)\n",
      "Requirement already satisfied: charset-normalizer<3,>=2 in /home/mstatt/projects/caltech/hte-client/.venv/lib/python3.10/site-packages (from requests<3.0.0,>=2.28.1->hte-client==0.1.0) (2.1.1)\n",
      "Requirement already satisfied: commonmark<0.10.0,>=0.9.0 in /home/mstatt/projects/caltech/hte-client/.venv/lib/python3.10/site-packages (from rich<12.0.0,>=11.1.0->modelyst-dbgen<2.0.0,>=1.0.0a7->hte-client==0.1.0) (0.9.1)\n",
      "Requirement already satisfied: pygments<3.0.0,>=2.6.0 in /home/mstatt/projects/caltech/hte-client/.venv/lib/python3.10/site-packages (from rich<12.0.0,>=11.1.0->modelyst-dbgen<2.0.0,>=1.0.0a7->hte-client==0.1.0) (2.13.0)\n",
      "Requirement already satisfied: colorama<0.5.0,>=0.4.0 in /home/mstatt/projects/caltech/hte-client/.venv/lib/python3.10/site-packages (from rich<12.0.0,>=11.1.0->modelyst-dbgen<2.0.0,>=1.0.0a7->hte-client==0.1.0) (0.4.5)\n",
      "Requirement already satisfied: greenlet!=0.4.17 in /home/mstatt/projects/caltech/hte-client/.venv/lib/python3.10/site-packages (from SQLAlchemy<1.5.0,>=1.4.17->modelyst-sqlmodel<0.0.10,>=0.0.9->modelyst-dbgen<2.0.0,>=1.0.0a7->hte-client==0.1.0) (1.1.3.post0)\n",
      "\u001b[33mWARNING: You are using pip version 21.2.4; however, version 22.3.1 is available.\n",
      "You should consider upgrading via the '/home/mstatt/projects/caltech/hte-client/.venv/bin/python -m pip install --upgrade pip' command.\u001b[0m\n",
      "Note: you may need to restart the kernel to use updated packages.\n"
     ]
    }
   ],
   "source": [
    "%pip install git+https://github.com/modelyst/hte-client.git --no-cache "
   ]
  },
  {
   "cell_type": "code",
   "execution_count": 1,
   "metadata": {},
   "outputs": [],
   "source": [
    "import pandas as pd\n",
    "from os.path import join\n",
    "from hte_client import run_raw_query, get_process_history\n",
    "from pathlib import Path\n",
    "\n",
    "def get_sql_script(query_filename:str):\n",
    "    \"\"\"Utility to read sql file.\"\"\"\n",
    "    with open(query_filename, \"r\") as sql_file:\n",
    "        sql_query_str = sql_file.read()\n",
    "    return sql_query_str"
   ]
  },
  {
   "cell_type": "code",
   "execution_count": 8,
   "metadata": {},
   "outputs": [
    {
     "name": "stdout",
     "output_type": "stream",
     "text": [
      "      type technique  n_samples_undergone\n",
      "0   anneal   unknown              1682969\n",
      "1    print    INKJET              1287330\n",
      "2     metr      METR              1052749\n",
      "3     imag      DICE               962063\n",
      "4     uvis        TR               558859\n",
      "..     ...       ...                  ...\n",
      "59    edep       CA1                    2\n",
      "60    ecms       CP1                    2\n",
      "61    edep       CV3                    2\n",
      "62    rams      RAMS                    1\n",
      "63    ecms       CA8                    1\n",
      "\n",
      "[64 rows x 3 columns]\n"
     ]
    }
   ],
   "source": [
    "query_filename = \"sql/count_samples_per_process_type.sql\"\n",
    "\n",
    "sql_command = get_sql_script(query_filename)\n",
    "data = run_raw_query(sql_command)\n",
    "df = pd.DataFrame(data)\n",
    "print(df)"
   ]
  },
  {
   "cell_type": "code",
   "execution_count": 2,
   "metadata": {},
   "outputs": [
    {
     "name": "stdout",
     "output_type": "stream",
     "text": [
      "(print-PVD) -> (print-PVD) -> (anec-CA0) -> (anec-CA1) -> (anec-CA2) -> (anec-CA3) -> (anec-CA4) -> (anec-CA5)\n"
     ]
    }
   ],
   "source": [
    "data = run_raw_query(\"select sample.label from sample limit 10\");\n",
    "if data:\n",
    "    sample_label, = data[0]\n",
    "    process_ids, type_history, tech_history = get_process_history(None, sample_label)\n",
    "    history_str = ' -> '.join(map(lambda x, y: f'({x}-{y})',type_history, tech_history))\n",
    "    print(history_str)\n",
    "else:\n",
    "    print('No samples found')"
   ]
  },
  {
   "cell_type": "code",
   "execution_count": null,
   "metadata": {},
   "outputs": [],
   "source": []
  }
 ],
 "metadata": {
  "kernelspec": {
   "display_name": "Python 3.10.1 ('.venv': poetry)",
   "language": "python",
   "name": "python3"
  },
  "language_info": {
   "codemirror_mode": {
    "name": "ipython",
    "version": 3
   },
   "file_extension": ".py",
   "mimetype": "text/x-python",
   "name": "python",
   "nbconvert_exporter": "python",
   "pygments_lexer": "ipython3",
   "version": "3.10.1"
  },
  "orig_nbformat": 4,
  "vscode": {
   "interpreter": {
    "hash": "357bebaa2432311399befc1a7978d83f9a04468b610abc3f3c4de5a12da01c44"
   }
  }
 },
 "nbformat": 4,
 "nbformat_minor": 2
}
