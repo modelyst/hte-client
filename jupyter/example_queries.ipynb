{
 "cells": [
  {
   "cell_type": "markdown",
   "metadata": {},
   "source": [
    "To configure the notebook use a .env file or set the environmental variables 'HTE_POSTGRES_DSN' and 'HTE_POSTGRES_PASSWORD'"
   ]
  },
  {
   "cell_type": "code",
   "execution_count": null,
   "metadata": {},
   "outputs": [
    {
     "ename": "",
     "evalue": "",
     "output_type": "error",
     "traceback": [
      "\u001b[1;31mRunning cells with 'Python 3.10.1 ('.venv': poetry)' requires ipykernel package.\n",
      "\u001b[1;31mRun the following command to install 'ipykernel' into the Python environment. \n",
      "\u001b[1;31mCommand: '/home/mstatt/projects/caltech/hte-client/.venv/bin/python -m pip install ipykernel -U --force-reinstall'"
     ]
    }
   ],
   "source": [
    "% pip install git+https://github.com/modelyst/hte-client.git --no-cache \n",
    "import pandas as pd\n",
    "from os.path import join\n",
    "from hte_client import run_raw_query\n",
    "from pathlib import Path\n",
    "\n",
    "def get_sql_script(query_filename:str):\n",
    "    \"\"\"Utility to read sql file.\"\"\"\n",
    "    with open(query_filename, \"r\") as sql_file:\n",
    "        sql_query_str = sql_file.read()\n",
    "    return sql_query_str"
   ]
  },
  {
   "cell_type": "code",
   "execution_count": 10,
   "metadata": {},
   "outputs": [
    {
     "name": "stdout",
     "output_type": "stream",
     "text": [
      "    type technique  n_samples_undergone\n",
      "0   imag      DICE              1077025\n",
      "1   uvis        TR               601959\n",
      "2   eche       CA1               448085\n",
      "3   eche       CP4               300963\n",
      "4   eche       CA2               279777\n",
      "..   ...       ...                  ...\n",
      "59  anec       CA7                    2\n",
      "60  anec       CA8                    1\n",
      "61  ecms       CA8                    1\n",
      "62  ecms       CA1                    1\n",
      "63  rams      RAMS                    1\n",
      "\n",
      "[64 rows x 3 columns]\n"
     ]
    }
   ],
   "source": [
    "query_filename = \"sql/count_samples_per_process_type.sql\"\n",
    "\n",
    "sql_command = get_sql_script(query_filename)\n",
    "data = run_raw_query(sql_command)\n",
    "df = pd.DataFrame(data)\n",
    "print(df)"
   ]
  },
  {
   "cell_type": "code",
   "execution_count": null,
   "metadata": {},
   "outputs": [],
   "source": []
  }
 ],
 "metadata": {
  "kernelspec": {
   "display_name": "Python 3.10.1 ('.venv': poetry)",
   "language": "python",
   "name": "python3"
  },
  "language_info": {
   "codemirror_mode": {
    "name": "ipython",
    "version": 3
   },
   "file_extension": ".py",
   "mimetype": "text/x-python",
   "name": "python",
   "nbconvert_exporter": "python",
   "pygments_lexer": "ipython3",
   "version": "3.10.1"
  },
  "orig_nbformat": 4,
  "vscode": {
   "interpreter": {
    "hash": "357bebaa2432311399befc1a7978d83f9a04468b610abc3f3c4de5a12da01c44"
   }
  }
 },
 "nbformat": 4,
 "nbformat_minor": 2
}
